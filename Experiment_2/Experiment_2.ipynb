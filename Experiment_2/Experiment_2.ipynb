{
  "nbformat": 4,
  "nbformat_minor": 0,
  "metadata": {
    "colab": {
      "provenance": []
    },
    "kernelspec": {
      "name": "python3",
      "display_name": "Python 3"
    },
    "language_info": {
      "name": "python"
    }
  },
  "cells": [
    {
      "cell_type": "code",
      "source": [
        "'''\n",
        "General case represents that developer working on\n",
        "frontend cannot work backend development unless he/she is fullstack dev.\n",
        "\n",
        "Write a method named verifier () that checks this condition.\n",
        "\n",
        "The method should check that if frontend is True and backend is True,\n",
        "the method returns Fullstack as string. If one of them is True, it should return\n",
        "the respective desgination, and if none of them are true, it returns,\n",
        "not a developer respetively.\n",
        "'''"
      ],
      "metadata": {
        "colab": {
          "base_uri": "https://localhost:8080/",
          "height": 110
        },
        "id": "tvwESPvW9B_6",
        "outputId": "7a9d9454-a3c2-4d7a-b303-d6de85affdc0"
      },
      "execution_count": 2,
      "outputs": [
        {
          "output_type": "execute_result",
          "data": {
            "text/plain": [
              "'\\nGeneral case represents that developer working on \\nfrontend cannot work backend development unless he/she is fullstack dev.\\n\\nWrite a method named verifier () that checks this condition.\\n\\nThe method should check that if frontend is True and backend is True,\\nthe method returns Fullstack as string. If one of them is True, it should return\\nthe respective desgination, and if none of them are true, it returns,\\nnot a developer respetively.\\n'"
            ],
            "application/vnd.google.colaboratory.intrinsic+json": {
              "type": "string"
            }
          },
          "metadata": {},
          "execution_count": 2
        }
      ]
    },
    {
      "cell_type": "code",
      "source": [
        "class Employee:\n",
        "    def __init__ (\n",
        "            self,\n",
        "            designation : str = 'Developer',\n",
        "            frontend : bool = False,\n",
        "            backend : bool = False\n",
        "    ):\n",
        "        self.designation = designation\n",
        "        self.frontend = frontend\n",
        "        self.backend = backend\n",
        "\n",
        "    def __repr__ (self):\n",
        "        return '{}'.format (self.designation, self.frontend, self.backend)\n",
        "\n",
        "    ### Write the your method over here.\n",
        "    def verifier (self):\n",
        "        if self.frontend == True and self.backend:\n",
        "            return 'Fullstack'\n",
        "        elif self.frontend:\n",
        "            return 'Frontend'\n",
        "        elif self.backend:\n",
        "            return 'Backend'\n",
        "        else:\n",
        "            return 'Not a Developer'"
      ],
      "metadata": {
        "id": "2Qt63WsU9DB9"
      },
      "execution_count": 3,
      "outputs": []
    },
    {
      "cell_type": "code",
      "source": [
        "if __name__ == '__main__':\n",
        "    firstEmployee = Employee ()\n",
        "    secondEmployee = Employee (frontend=True, backend=False)\n",
        "    thirdEmployee = Employee (frontend=True, backend=True)\n",
        "    fourthEmployee = Employee (frontend=False, backend=True)\n",
        "\n",
        "    # Call the method here to display output.\n",
        "    print('Employee 1: '+ firstEmployee.verifier())\n",
        "    print('Employee 2: '+ secondEmployee.verifier())\n",
        "    print('Employee 3: '+ thirdEmployee.verifier())\n",
        "    print('Employee 4: '+ fourthEmployee.verifier())\n",
        "\n"
      ],
      "metadata": {
        "colab": {
          "base_uri": "https://localhost:8080/"
        },
        "id": "dwEEU0Lq9E_c",
        "outputId": "c28b072e-4ba2-4549-f7a3-09f5f666ed5f"
      },
      "execution_count": 8,
      "outputs": [
        {
          "output_type": "stream",
          "name": "stdout",
          "text": [
            "Employee 1: Not a Developer\n",
            "Employee 2: Frontend\n",
            "Employee 3: Fullstack\n",
            "Employee 4: Backend\n"
          ]
        }
      ]
    }
  ]
}