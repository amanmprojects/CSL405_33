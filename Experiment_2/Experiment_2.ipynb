{
 "cells": [
  {
   "cell_type": "markdown",
   "metadata": {
    "colab": {
     "base_uri": "https://localhost:8080/",
     "height": 110
    },
    "id": "tvwESPvW9B_6",
    "outputId": "7a9d9454-a3c2-4d7a-b303-d6de85affdc0"
   },
   "source": [
    "### Name: Aman Mehtar\n",
    "### Roll No: 33\n",
    "General case represents that developer working on\n",
    "frontend cannot work backend development unless he/she is fullstack dev.\n",
    "\n",
    "Write a method named verifier () that checks this condition.\n",
    "\n",
    "The method should check that if frontend is True and backend is True,\n",
    "the method returns Fullstack as string. If one of them is True, it should return\n",
    "the respective desgination, and if none of them are true, it returns,\n",
    "not a developer respetively.\n"
   ]
  },
  {
   "cell_type": "code",
   "execution_count": 11,
   "metadata": {
    "id": "2Qt63WsU9DB9"
   },
   "outputs": [],
   "source": [
    "class Employee:\n",
    "    def __init__ (\n",
    "            self,\n",
    "            designation : str = 'Developer',\n",
    "            frontend : bool = False,\n",
    "            backend : bool = False\n",
    "    ):\n",
    "        self.designation = designation\n",
    "        self.frontend = frontend\n",
    "        self.backend = backend\n",
    "\n",
    "    def __repr__ (self):\n",
    "        return '{}'.format (self.designation, self.frontend, self.backend)\n",
    "\n",
    "    ### Write the your method over here.\n",
    "    def verifier (self):\n",
    "        if self.frontend == True and self.backend:\n",
    "            return 'Fullstack'\n",
    "        elif self.frontend:\n",
    "            return 'Frontend'\n",
    "        elif self.backend:\n",
    "            return 'Backend'\n",
    "        else:\n",
    "            return 'Not a Developer'"
   ]
  },
  {
   "cell_type": "code",
   "execution_count": 12,
   "metadata": {
    "colab": {
     "base_uri": "https://localhost:8080/"
    },
    "id": "dwEEU0Lq9E_c",
    "outputId": "c28b072e-4ba2-4549-f7a3-09f5f666ed5f"
   },
   "outputs": [
    {
     "name": "stdout",
     "output_type": "stream",
     "text": [
      "Employee 1: Not a Developer\n",
      "Employee 2: Frontend\n",
      "Employee 3: Fullstack\n",
      "Employee 4: Backend\n"
     ]
    }
   ],
   "source": [
    "if __name__ == '__main__':\n",
    "    firstEmployee = Employee ()\n",
    "    secondEmployee = Employee (frontend=True, backend=False)\n",
    "    thirdEmployee = Employee (frontend=True, backend=True)\n",
    "    fourthEmployee = Employee (frontend=False, backend=True)\n",
    "\n",
    "    # Call the method here to display output.\n",
    "    print('Employee 1: '+ firstEmployee.verifier())\n",
    "    print('Employee 2: '+ secondEmployee.verifier())\n",
    "    print('Employee 3: '+ thirdEmployee.verifier())\n",
    "    print('Employee 4: '+ fourthEmployee.verifier())\n",
    "\n"
   ]
  }
 ],
 "metadata": {
  "colab": {
   "provenance": []
  },
  "kernelspec": {
   "display_name": "Python 3",
   "name": "python3"
  },
  "language_info": {
   "codemirror_mode": {
    "name": "ipython",
    "version": 3
   },
   "file_extension": ".py",
   "mimetype": "text/x-python",
   "name": "python",
   "nbconvert_exporter": "python",
   "pygments_lexer": "ipython3",
   "version": "3.12.1"
  }
 },
 "nbformat": 4,
 "nbformat_minor": 0
}
