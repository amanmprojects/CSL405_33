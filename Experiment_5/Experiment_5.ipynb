{
 "cells": [
  {
   "cell_type": "markdown",
   "id": "ec21bd0b",
   "metadata": {},
   "source": [
    "### Name: Aman Mehtar\n",
    "### Roll No: 33"
   ]
  },
  {
   "cell_type": "code",
   "execution_count": null,
   "id": "901048da",
   "metadata": {},
   "outputs": [],
   "source": []
  }
 ],
 "metadata": {
  "language_info": {
   "name": "python"
  }
 },
 "nbformat": 4,
 "nbformat_minor": 5
}
