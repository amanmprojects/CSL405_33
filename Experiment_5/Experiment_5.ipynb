{
 "cells": [
  {
   "cell_type": "markdown",
   "id": "ec21bd0b",
   "metadata": {},
   "source": [
    "### Name: Aman Mehtar\n",
    "### Roll No: 33"
   ]
  },
  {
   "cell_type": "code",
   "execution_count": 2,
   "id": "901048da",
   "metadata": {},
   "outputs": [
    {
     "name": "stdout",
     "output_type": "stream",
     "text": [
      "Initial Stack\n",
      "['a', 'b', 'c']\n"
     ]
    }
   ],
   "source": [
    "stack = list ()\n",
    "\n",
    "# Append Operation\n",
    "stack.append ('a')\n",
    "stack.append ('b')\n",
    "stack.append ('c')\n",
    "print ('Initial Stack')\n",
    "print (stack)"
   ]
  },
  {
   "cell_type": "code",
   "execution_count": 3,
   "id": "bd892e2e",
   "metadata": {},
   "outputs": [
    {
     "name": "stdout",
     "output_type": "stream",
     "text": [
      "c\n",
      "b\n",
      "a\n",
      "[]\n"
     ]
    }
   ],
   "source": [
    "# Pop Operation\n",
    "print (stack.pop ())\n",
    "print (stack.pop ())\n",
    "print (stack.pop ())\n",
    "print (stack)"
   ]
  },
  {
   "cell_type": "code",
   "execution_count": 4,
   "id": "f62d3c84",
   "metadata": {},
   "outputs": [
    {
     "data": {
      "text/plain": [
       "'\\nGiven a valid parentheses string stringInput, return the nesting depth of stringInput.\\nThe nesting depth is the maximum number of nested parentheses.\\n\\nExample 1:\\nInput: s = \"(1+(2*3)+((8)/4))+1\"\\nOutput: 3\\nExplanation:\\nDigit 8 is inside of 3 nested parentheses in the string.\\n\\nExample 2:\\nInput: s = \"(1)+((2))+(((3)))\"\\nOutput: 3\\nExplanation:\\nDigit 3 is inside of 3 nested parentheses in the string.\\n\\nExample 3:\\nInput: s = \"()(())((()()))\"\\nOutput: 3\\n'"
      ]
     },
     "execution_count": 4,
     "metadata": {},
     "output_type": "execute_result"
    }
   ],
   "source": [
    "'''\n",
    "Given a valid parentheses string stringInput, return the nesting depth of stringInput.\n",
    "The nesting depth is the maximum number of nested parentheses.\n",
    "\n",
    "Example 1:\n",
    "Input: s = \"(1+(2*3)+((8)/4))+1\"\n",
    "Output: 3\n",
    "Explanation:\n",
    "Digit 8 is inside of 3 nested parentheses in the string.\n",
    "\n",
    "Example 2:\n",
    "Input: s = \"(1)+((2))+(((3)))\"\n",
    "Output: 3\n",
    "Explanation:\n",
    "Digit 3 is inside of 3 nested parentheses in the string.\n",
    "\n",
    "Example 3:\n",
    "Input: s = \"()(())((()()))\"\n",
    "Output: 3\n",
    "'''"
   ]
  },
  {
   "cell_type": "code",
   "execution_count": 5,
   "metadata": {},
   "outputs": [
    {
     "name": "stdout",
     "output_type": "stream",
     "text": [
      "Maximum Depth: 3\n"
     ]
    }
   ],
   "source": [
    "class StackDepth:\n",
    "    def maximumDepth (self, stringInput : str) -> int:\n",
    "        stack = []\n",
    "        maxDepth = 0\n",
    "        currentDepth = 0\n",
    "\n",
    "        for char in stringInput:\n",
    "            if char == '(':\n",
    "                stack.append(char)\n",
    "                currentDepth += 1\n",
    "                maxDepth = max(maxDepth, currentDepth)\n",
    "            elif char == ')':\n",
    "                if stack:\n",
    "                    stack.pop()\n",
    "                    currentDepth -= 1\n",
    "\n",
    "        return maxDepth\n",
    "# Example usage\n",
    "depthCalculator = StackDepth()\n",
    "result = depthCalculator.maximumDepth(\"(1+(2*3)+((8)/4))+1\")\n",
    "print(\"Maximum Depth:\", result)"
   ]
  }
 ],
 "metadata": {
  "kernelspec": {
   "display_name": "Python 3",
   "language": "python",
   "name": "python3"
  },
  "language_info": {
   "codemirror_mode": {
    "name": "ipython",
    "version": 3
   },
   "file_extension": ".py",
   "mimetype": "text/x-python",
   "name": "python",
   "nbconvert_exporter": "python",
   "pygments_lexer": "ipython3",
   "version": "3.12.1"
  }
 },
 "nbformat": 4,
 "nbformat_minor": 5
}
