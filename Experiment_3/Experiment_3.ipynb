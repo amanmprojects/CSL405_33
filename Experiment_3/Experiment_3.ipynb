{
 "cells": [
  {
   "cell_type": "markdown",
   "id": "f16bd272",
   "metadata": {},
   "source": [
    "### Name: Aman Mehtar  \n",
    "### Roll No: 33\n",
    "\n",
    "\n",
    "File Handling in Python"
   ]
  },
  {
   "cell_type": "code",
   "execution_count": 10,
   "id": "3b4b0472",
   "metadata": {},
   "outputs": [
    {
     "name": "stdout",
     "output_type": "stream",
     "text": [
      "\n",
      "Content of File: \n",
      "This is the first line of the file\n",
      "This is the second line\n",
      "This is the third line, now I am ending\n",
      "Bye Bye\n",
      "\n",
      "Number of lines: 4\n",
      "Number of words: 24\n",
      "Number of characters: 106\n"
     ]
    }
   ],
   "source": [
    "with open('sample.txt', 'r') as file:\n",
    "    lines = file.readlines()\n",
    "    no_of_lines = len(lines)\n",
    "    no_of_words = len([word for line in lines for word in line.split()])\n",
    "    no_of_chars = len([char for line in lines for char in line])\n",
    "\n",
    "    print(\"\\nContent of File: \")\n",
    "    print(''.join(lines), end=\"\\n\\n\")\n",
    "    print(f'Number of lines: {no_of_lines}')\n",
    "    print(f'Number of words: {no_of_words}')\n",
    "    print(f'Number of characters: {no_of_chars}')\n"
   ]
  },
  {
   "cell_type": "code",
   "execution_count": null,
   "id": "8e404b76",
   "metadata": {},
   "outputs": [],
   "source": []
  }
 ],
 "metadata": {
  "kernelspec": {
   "display_name": "Python 3",
   "language": "python",
   "name": "python3"
  },
  "language_info": {
   "codemirror_mode": {
    "name": "ipython",
    "version": 3
   },
   "file_extension": ".py",
   "mimetype": "text/x-python",
   "name": "python",
   "nbconvert_exporter": "python",
   "pygments_lexer": "ipython3",
   "version": "3.12.1"
  }
 },
 "nbformat": 4,
 "nbformat_minor": 5
}
