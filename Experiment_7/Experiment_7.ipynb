{
 "cells": [
  {
   "cell_type": "markdown",
   "id": "7166bbc8",
   "metadata": {},
   "source": [
    "### Name: Aman Mehtar\n",
    "### Roll No: 33"
   ]
  },
  {
   "cell_type": "markdown",
   "id": "d54a2791",
   "metadata": {},
   "source": [
    "### Client"
   ]
  },
  {
   "cell_type": "code",
   "execution_count": null,
   "id": "829a53eb",
   "metadata": {},
   "outputs": [],
   "source": [
    "import socket\n",
    "\n",
    "PORT = 5050\n",
    "SERVER = ''\n",
    "ADDR = (SERVER, PORT)\n",
    "FORMAT = 'utf-8'\n",
    "HEADER = 64\n",
    "DISCONNECT_MESSAGE = '!DISCONNECT'\n",
    "\n",
    "client = socket.socket (socket.AF_INET, socket.SOCK_STREAM)\n",
    "client.connect (ADDR)\n",
    "\n",
    "def send (messages):\n",
    "    message = messages.encode (FORMAT)\n",
    "    messageLength = len (message)\n",
    "    sendLength = str (messageLength).encode (FORMAT)\n",
    "    sendLength += b' ' * (HEADER - len (sendLength))\n",
    "    client.send (sendLength)\n",
    "    client.send (message)\n",
    "    print (client.recv (2045).decode (FORMAT))\n",
    "\n",
    "\n",
    "send(DISCONNECT_MESSAGE)"
   ]
  },
  {
   "cell_type": "markdown",
   "id": "6ddc3b09",
   "metadata": {},
   "source": [
    "### Server"
   ]
  },
  {
   "cell_type": "code",
   "execution_count": null,
   "id": "055f3f84",
   "metadata": {},
   "outputs": [],
   "source": [
    "import socket, threading\n",
    "\n",
    "PORT = 5050\n",
    "SERVER = socket.gethostbyname (socket.gethostname ())\n",
    "ADDR = (SERVER, PORT)\n",
    "FORMAT = 'utf-8'\n",
    "HEADER = 64\n",
    "DISCONNECT_MESSAGE = '!DISCONNECT'\n",
    "\n",
    "server = socket.socket (socket.AF_INET, socket.SOCK_STREAM)\n",
    "server.bind (ADDR)\n",
    "\n",
    "def clientHandling (connection, address):\n",
    "    print (f'[NEW CONNECTION] {address} connected')\n",
    "    isConnected = True\n",
    "    while isConnected:\n",
    "        messageLength = connection.recv (HEADER).decode (FORMAT)\n",
    "        if messageLength:\n",
    "            messageLength = int (messageLength)\n",
    "            message = connection.recv (messageLength).decode (FORMAT)\n",
    "            if message == DISCONNECT_MESSAGE:\n",
    "                isConnected = False\n",
    "            print (f'[{address}] {message}')\n",
    "            connection.send ('Message Recieved'.encode (FORMAT))\n",
    "    connection.close ()\n",
    "\n",
    "def start ():\n",
    "    server.listen ()\n",
    "    print (f'[LISTENING] Server is listening on {SERVER}')\n",
    "    while True:\n",
    "        connection, address = server.accept ()\n",
    "        thread = threading.Thread (target=clientHandling, args=(connection, address))\n",
    "        thread.start ()\n",
    "        print (f'[ACTIVE CONNECTION] {threading.active_count () - 1}')\n",
    "\n",
    "print ('[SERVER STARTING] server has been started')\n",
    "start ()"
   ]
  }
 ],
 "metadata": {
  "kernelspec": {
   "display_name": "Python 3",
   "language": "python",
   "name": "python3"
  },
  "language_info": {
   "codemirror_mode": {
    "name": "ipython",
    "version": 3
   },
   "file_extension": ".py",
   "mimetype": "text/x-python",
   "name": "python",
   "nbconvert_exporter": "python",
   "pygments_lexer": "ipython3",
   "version": "3.12.1"
  }
 },
 "nbformat": 4,
 "nbformat_minor": 5
}
